{
 "cells": [
  {
   "cell_type": "code",
   "execution_count": 1,
   "id": "609836fc-ced5-42ec-856f-8a2a1b2fce6b",
   "metadata": {},
   "outputs": [],
   "source": [
    "import pandas as pd\n"
   ]
  },
  {
   "cell_type": "code",
   "execution_count": 2,
   "id": "3b6bb6db-62de-4c5f-9389-8c04df4fe553",
   "metadata": {},
   "outputs": [],
   "source": [
    "uc_df = pd.read_csv('Resources/used_carswithindex.csv')\n",
    "cr_df = pd.read_csv('Resources/ratings_used_cars.csv')"
   ]
  },
  {
   "cell_type": "code",
   "execution_count": 3,
   "id": "0f77716d-8dac-41a3-b8a5-576b66ed1d19",
   "metadata": {},
   "outputs": [
    {
     "name": "stdout",
     "output_type": "stream",
     "text": [
      "   index  year_made fuel_type  seats  mileage  ownership transmission  \\\n",
      "0      0         17    Petrol      5    34796          1    Automatic   \n",
      "1      1         21    Petrol      5    19023          1    Automatic   \n",
      "2      2         18    Diesel      5    14912          1    Automatic   \n",
      "3      3         19    Petrol      5    11419          1       Manual   \n",
      "4      4         19    Petrol      5    27899          1    Automatic   \n",
      "\n",
      "   fuel_economy  engine(cc)  horsepower  torque(Nm)    price           Make  \\\n",
      "0          7.81      2996.0      2996.0       333.0  86062.5  Mercedes-Benz   \n",
      "1         17.40       999.0       999.0      9863.0  12136.5         Nissan   \n",
      "2         20.68      1995.0      1995.0       188.0  32062.5            BMW   \n",
      "3         16.50      1353.0      1353.0     13808.0  18306.0            Kia   \n",
      "4         14.67      1798.0      1798.0     17746.0  32400.0          Skoda   \n",
      "\n",
      "     Model  \n",
      "0  S-Class  \n",
      "1  Magnite  \n",
      "2       X1  \n",
      "3   Seltos  \n",
      "4   Superb  \n",
      "   index fuel_type  seats   mileage  ownership transmission  fuel_economy  \\\n",
      "0      0    Petrol      5  0.068422        0.0    Automatic      0.000000   \n",
      "1      1    Petrol      5  0.037059        0.0    Automatic      0.002405   \n",
      "2      2    Diesel      5  0.028885        0.0    Automatic      0.003227   \n",
      "3      3    Petrol      5  0.021940        0.0       Manual      0.002179   \n",
      "4      4    Petrol      5  0.054708        0.0    Automatic      0.001720   \n",
      "\n",
      "     engine(cc)    horsepower  torque(Nm)     price           Make    Model  \\\n",
      "0  9.174847e-10  9.174847e-10    0.000216  0.000896  Mercedes-Benz  S-Class   \n",
      "1  3.049080e-10  3.049080e-10    0.006722  0.000114         Nissan  Magnite   \n",
      "2  6.104294e-10  6.104294e-10    0.000117  0.000325            BMW       X1   \n",
      "3  4.134969e-10  4.134969e-10    0.009415  0.000179            Kia   Seltos   \n",
      "4  5.500000e-10  5.500000e-10    0.012103  0.000329          Skoda   Superb   \n",
      "\n",
      "   car_rating  \n",
      "0   23.380796  \n",
      "1   40.753425  \n",
      "2   29.366446  \n",
      "3   33.962524  \n",
      "4   32.433830  \n"
     ]
    }
   ],
   "source": [
    "print(uc_df.head())\n",
    "print(cr_df.head())"
   ]
  },
  {
   "cell_type": "code",
   "execution_count": 4,
   "id": "21dc7663-96a7-4d4a-817c-5e7f7b26b28b",
   "metadata": {},
   "outputs": [
    {
     "name": "stdout",
     "output_type": "stream",
     "text": [
      "index           0\n",
      "year_made       0\n",
      "fuel_type       0\n",
      "seats           0\n",
      "mileage         0\n",
      "ownership       0\n",
      "transmission    0\n",
      "fuel_economy    3\n",
      "engine(cc)      3\n",
      "horsepower      3\n",
      "torque(Nm)      4\n",
      "price           0\n",
      "Make            0\n",
      "Model           0\n",
      "dtype: int64\n",
      "index           0\n",
      "fuel_type       0\n",
      "seats           0\n",
      "mileage         0\n",
      "ownership       0\n",
      "transmission    0\n",
      "fuel_economy    3\n",
      "engine(cc)      3\n",
      "horsepower      3\n",
      "torque(Nm)      4\n",
      "price           0\n",
      "Make            0\n",
      "Model           0\n",
      "car_rating      4\n",
      "dtype: int64\n"
     ]
    }
   ],
   "source": [
    "print(uc_df.isnull().sum())\n",
    "print(cr_df.isnull().sum())"
   ]
  },
  {
   "cell_type": "code",
   "execution_count": 5,
   "id": "cb00c5eb-0166-479f-98f5-8fb26362af6c",
   "metadata": {},
   "outputs": [],
   "source": [
    "uc_df_cleaned = uc_df.dropna()\n",
    "cr_df_cleaned = cr_df.dropna()"
   ]
  },
  {
   "cell_type": "code",
   "execution_count": 6,
   "id": "568fa105-e85d-49c9-8b53-1414d38d5b94",
   "metadata": {},
   "outputs": [
    {
     "name": "stdout",
     "output_type": "stream",
     "text": [
      "index           0\n",
      "year_made       0\n",
      "fuel_type       0\n",
      "seats           0\n",
      "mileage         0\n",
      "ownership       0\n",
      "transmission    0\n",
      "fuel_economy    0\n",
      "engine(cc)      0\n",
      "horsepower      0\n",
      "torque(Nm)      0\n",
      "price           0\n",
      "Make            0\n",
      "Model           0\n",
      "dtype: int64\n",
      "index           0\n",
      "fuel_type       0\n",
      "seats           0\n",
      "mileage         0\n",
      "ownership       0\n",
      "transmission    0\n",
      "fuel_economy    0\n",
      "engine(cc)      0\n",
      "horsepower      0\n",
      "torque(Nm)      0\n",
      "price           0\n",
      "Make            0\n",
      "Model           0\n",
      "car_rating      0\n",
      "dtype: int64\n"
     ]
    }
   ],
   "source": [
    "print(uc_df_cleaned.isnull().sum())\n",
    "print(cr_df_cleaned.isnull().sum())"
   ]
  },
  {
   "cell_type": "code",
   "execution_count": 7,
   "id": "3921e19a-ae51-4118-8365-6901fb29090a",
   "metadata": {},
   "outputs": [],
   "source": [
    "# merge the datasets on the 'index', 'Make', and 'Model' columns\n",
    "merged_df = pd.merge(uc_df_cleaned, cr_df_cleaned, on=['index', 'Make', 'Model'])"
   ]
  },
  {
   "cell_type": "code",
   "execution_count": 8,
   "id": "52ed38bb-d65c-40a6-b298-3f8219912aeb",
   "metadata": {},
   "outputs": [
    {
     "name": "stdout",
     "output_type": "stream",
     "text": [
      "   index  year_made fuel_type_x  seats_x  mileage_x  ownership_x  \\\n",
      "0      0         17      Petrol        5      34796            1   \n",
      "1      1         21      Petrol        5      19023            1   \n",
      "2      2         18      Diesel        5      14912            1   \n",
      "3      3         19      Petrol        5      11419            1   \n",
      "4      4         19      Petrol        5      27899            1   \n",
      "\n",
      "  transmission_x  fuel_economy_x  engine(cc)_x  horsepower_x  ...  seats_y  \\\n",
      "0      Automatic            7.81        2996.0        2996.0  ...        5   \n",
      "1      Automatic           17.40         999.0         999.0  ...        5   \n",
      "2      Automatic           20.68        1995.0        1995.0  ...        5   \n",
      "3         Manual           16.50        1353.0        1353.0  ...        5   \n",
      "4      Automatic           14.67        1798.0        1798.0  ...        5   \n",
      "\n",
      "   mileage_y ownership_y transmission_y fuel_economy_y  engine(cc)_y  \\\n",
      "0   0.068422         0.0      Automatic       0.000000  9.174847e-10   \n",
      "1   0.037059         0.0      Automatic       0.002405  3.049080e-10   \n",
      "2   0.028885         0.0      Automatic       0.003227  6.104294e-10   \n",
      "3   0.021940         0.0         Manual       0.002179  4.134969e-10   \n",
      "4   0.054708         0.0      Automatic       0.001720  5.500000e-10   \n",
      "\n",
      "   horsepower_y  torque(Nm)_y   price_y  car_rating  \n",
      "0  9.174847e-10      0.000216  0.000896   23.380796  \n",
      "1  3.049080e-10      0.006722  0.000114   40.753425  \n",
      "2  6.104294e-10      0.000117  0.000325   29.366446  \n",
      "3  4.134969e-10      0.009415  0.000179   33.962524  \n",
      "4  5.500000e-10      0.012103  0.000329   32.433830  \n",
      "\n",
      "[5 rows x 25 columns]\n",
      "Index(['index', 'year_made', 'fuel_type_x', 'seats_x', 'mileage_x',\n",
      "       'ownership_x', 'transmission_x', 'fuel_economy_x', 'engine(cc)_x',\n",
      "       'horsepower_x', 'torque(Nm)_x', 'price_x', 'Make', 'Model',\n",
      "       'fuel_type_y', 'seats_y', 'mileage_y', 'ownership_y', 'transmission_y',\n",
      "       'fuel_economy_y', 'engine(cc)_y', 'horsepower_y', 'torque(Nm)_y',\n",
      "       'price_y', 'car_rating'],\n",
      "      dtype='object')\n"
     ]
    }
   ],
   "source": [
    "print(merged_df.head())\n",
    "print(merged_df.columns)"
   ]
  },
  {
   "cell_type": "code",
   "execution_count": 9,
   "id": "197a985f-1400-4829-a08e-1a2569dc58b5",
   "metadata": {},
   "outputs": [
    {
     "name": "stdout",
     "output_type": "stream",
     "text": [
      "Index(['index', 'year_made', 'fuel_type_x', 'seats_x', 'mileage_x',\n",
      "       'ownership_x', 'transmission_x', 'fuel_economy_x', 'engine(cc)_x',\n",
      "       'horsepower_x', 'torque(Nm)_x', 'price_x', 'Make', 'Model',\n",
      "       'fuel_type_y', 'seats_y', 'mileage_y', 'ownership_y', 'transmission_y',\n",
      "       'fuel_economy_y', 'engine(cc)_y', 'horsepower_y', 'torque(Nm)_y',\n",
      "       'price_y', 'car_rating'],\n",
      "      dtype='object')\n"
     ]
    }
   ],
   "source": [
    "print(merged_df.columns)"
   ]
  },
  {
   "cell_type": "code",
   "execution_count": 10,
   "id": "17cee8a8-dc4a-4244-a244-b50f99106ec0",
   "metadata": {},
   "outputs": [],
   "source": [
    "merged_df['mileage_per_year'] = merged_df['mileage_x'] / merged_df['year_made']"
   ]
  },
  {
   "cell_type": "code",
   "execution_count": 11,
   "id": "2807b3c6-3545-452a-bf6a-934628c7adf4",
   "metadata": {},
   "outputs": [],
   "source": [
    "merged_df = merged_df.drop(columns=['fuel_type_y', 'seats_y', 'mileage_y', 'ownership_y',\n",
    "                                    'transmission_y', 'fuel_economy_y', 'engine(cc)_y',\n",
    "                                    'horsepower_y', 'torque(Nm)_y', 'price_y'])\n",
    "\n",
    "merged_df['mileage_per_year'] = merged_df['mileage_x'] / merged_df['year_made']"
   ]
  },
  {
   "cell_type": "code",
   "execution_count": 12,
   "id": "b822cb5e-147b-4f4a-a6ff-c69044031b00",
   "metadata": {},
   "outputs": [
    {
     "name": "stdout",
     "output_type": "stream",
     "text": [
      "   year_made  car_age  mileage_per_year\n",
      "0         17     2007         17.337319\n",
      "1         21     2003          9.497254\n",
      "2         18     2006          7.433699\n",
      "3         19     2005          5.695262\n",
      "4         19     2005         13.914713\n"
     ]
    }
   ],
   "source": [
    "# calculate car age\n",
    "import datetime\n",
    "\n",
    "current_year = datetime.datetime.now().year\n",
    "\n",
    "merged_df['car_age'] = current_year - merged_df['year_made']\n",
    "\n",
    "merged_df['mileage_per_year'] = merged_df['mileage_x'] / merged_df['car_age']\n",
    "\n",
    "print(merged_df[['year_made', 'car_age', 'mileage_per_year']].head())\n"
   ]
  },
  {
   "cell_type": "code",
   "execution_count": 13,
   "id": "bc6384e8-54df-4268-a2cc-79a9da977267",
   "metadata": {},
   "outputs": [
    {
     "name": "stdout",
     "output_type": "stream",
     "text": [
      "Index(['index', 'year_made', 'fuel_type_x', 'seats_x', 'mileage_x',\n",
      "       'ownership_x', 'transmission_x', 'fuel_economy_x', 'engine(cc)_x',\n",
      "       'horsepower_x', 'torque(Nm)_x', 'price_x', 'Make', 'Model',\n",
      "       'car_rating', 'mileage_per_year', 'car_age'],\n",
      "      dtype='object')\n"
     ]
    }
   ],
   "source": [
    "print(merged_df.columns)"
   ]
  },
  {
   "cell_type": "markdown",
   "id": "88acbf1e-24e6-44e1-800e-ddd6fb351167",
   "metadata": {},
   "source": [
    "# Build Model"
   ]
  },
  {
   "cell_type": "code",
   "execution_count": 14,
   "id": "bcb35630-7012-4910-b9ae-681b97ffeb90",
   "metadata": {},
   "outputs": [],
   "source": [
    "merged_df = merged_df.drop(columns=['fuel_type_x'])\n",
    "merged_df = merged_df.drop(columns=['transmission_x'])"
   ]
  },
  {
   "cell_type": "code",
   "execution_count": 17,
   "id": "2524165f-4a04-4584-a4ce-095367dcc889",
   "metadata": {},
   "outputs": [
    {
     "name": "stdout",
     "output_type": "stream",
     "text": [
      "Mean Absolute Error: 317546.3942532467\n"
     ]
    }
   ],
   "source": [
    "# build Model ---------------------------------------------------------------\n",
    "from sklearn.model_selection import train_test_split\n",
    "from sklearn.ensemble import RandomForestRegressor\n",
    "from sklearn.metrics import mean_absolute_error\n",
    "from sklearn.pipeline import Pipeline\n",
    "\n",
    "#3: create a pipeline that directly fits the model\n",
    "model = Pipeline(steps=[('model', RandomForestRegressor(random_state=42))])\n",
    "\n",
    "# 4: define the features and target variable\n",
    "X = merged_df.drop(columns=['price_x', 'Make', 'Model', 'index'])\n",
    "y = merged_df['price_x']\n",
    "\n",
    "#5: split the data\n",
    "X_train, X_test, y_train, y_test = train_test_split(X, y, test_size=0.2, random_state=42)\n",
    "\n",
    "#6: train the model\n",
    "model.fit(X_train, y_train)\n",
    "\n",
    "#7: make predictions\n",
    "y_pred = model.predict(X_test)\n",
    "\n",
    "#8: evaluate the model\n",
    "mae = mean_absolute_error(y_test, y_pred)\n",
    "print(f\"Mean Absolute Error: {mae}\")\n",
    "\n"
   ]
  },
  {
   "cell_type": "markdown",
   "id": "bb19cfae-74fa-41f1-b73b-986c4de96760",
   "metadata": {},
   "source": [
    " # improve the model now with random forest"
   ]
  },
  {
   "cell_type": "code",
   "execution_count": 19,
   "id": "f1f7207a-7a1c-4f72-be5d-b3698a4cd720",
   "metadata": {},
   "outputs": [
    {
     "name": "stdout",
     "output_type": "stream",
     "text": [
      "Mean Absolute Error after tuning: 358477.5312986263\n"
     ]
    }
   ],
   "source": [
    "from sklearn.ensemble import RandomForestRegressor\n",
    "from sklearn.model_selection import GridSearchCV\n",
    "from sklearn.pipeline import Pipeline\n",
    "from sklearn.metrics import mean_absolute_error\n",
    "\n",
    "#1: create the pipeline \n",
    "model = Pipeline(steps=[('model', RandomForestRegressor(random_state=42))])\n",
    "\n",
    "#2: define the hyperparameter grid for Random Forest\n",
    "param_grid = {\n",
    "    'model__n_estimators': [100, 200, 300],  # Number of trees in the forest\n",
    "    'model__max_depth': [None, 10, 20],      # Maximum depth of each tree\n",
    "    'model__min_samples_split': [2, 5, 10]   # Minimum number of samples required to split an internal node\n",
    "}\n",
    "\n",
    "#3: set up GridSearchCV for Random Forest\n",
    "grid_search = GridSearchCV(model, param_grid, cv=5, scoring='neg_mean_absolute_error', n_jobs=-1)\n",
    "\n",
    "#4: train the model with hyperparameter tuning\n",
    "grid_search.fit(X_train, y_train)\n",
    "\n",
    "#5: get the best model from the grid search\n",
    "best_model = grid_search.best_estimator_\n",
    "\n",
    "#6: make predictions with the best model\n",
    "y_pred = best_model.predict(X_test)\n",
    "\n",
    "# 7: evaluate the model\n",
    "mae = mean_absolute_error(y_test, y_pred)\n",
    "print(f\"Mean Absolute Error after tuning: {mae}\")\n"
   ]
  },
  {
   "cell_type": "code",
   "execution_count": 21,
   "id": "3fb7cd61-79b7-4f65-8903-e67cf9689882",
   "metadata": {},
   "outputs": [
    {
     "name": "stdout",
     "output_type": "stream",
     "text": [
      "Number of features: 11\n",
      "Number of importances: 11\n"
     ]
    },
    {
     "data": {
      "image/png": "[encoded data removed]",
      "text/plain": [
       "<Figure size 1000x600 with 1 Axes>"
      ]
     },
     "metadata": {},
     "output_type": "display_data"
    }
   ],
   "source": [
    "import matplotlib.pyplot as plt\n",
    "import numpy as np\n",
    "\n",
    "# extract the model from the best pipeline\n",
    "model = best_model.named_steps['model']\n",
    "\n",
    "# use feature names from X_train\n",
    "all_feature_names = X_train.columns\n",
    "\n",
    "# random Forest model\n",
    "feature_importances = model.feature_importances_\n",
    "\n",
    "\n",
    "print(f\"Number of features: {len(all_feature_names)}\")\n",
    "print(f\"Number of importances: {len(feature_importances)}\")\n",
    "\n",
    "plt.figure(figsize=(10, 6))\n",
    "plt.barh(all_feature_names, feature_importances)\n",
    "plt.xlabel(\"Feature Importance\")\n",
    "plt.ylabel(\"Feature\")\n",
    "plt.show()\n",
    "\n",
    "\n"
   ]
  },
  {
   "cell_type": "code",
   "execution_count": 22,
   "id": "c3d8a295-4046-4f33-8e4c-6663bd086b28",
   "metadata": {},
   "outputs": [],
   "source": [
    "#RESULTS------------------------------- explanation\n",
    "\n",
    "# engine is the highest importance, indicating that the engine size is #1 factor in predicting car prices.\n",
    "# horsepower is next vehicle price estimation.\n",
    "# car_rating also plays a huge role\n",
    "\n",
    "\n"
   ]
  },
  {
   "cell_type": "markdown",
   "id": "3e9a2f43-52bd-4131-993e-fd6f6d6aca36",
   "metadata": {},
   "source": [
    "# PREDICT"
   ]
  },
  {
   "cell_type": "code",
   "execution_count": 23,
   "id": "fb43d8a7-adcd-4091-980e-9c4d421e8c61",
   "metadata": {},
   "outputs": [
    {
     "data": {
      "text/html": [
       "<div>\n",
       "<style scoped>\n",
       "    .dataframe tbody tr th:only-of-type {\n",
       "        vertical-align: middle;\n",
       "    }\n",
       "\n",
       "    .dataframe tbody tr th {\n",
       "        vertical-align: top;\n",
       "    }\n",
       "\n",
       "    .dataframe thead th {\n",
       "        text-align: right;\n",
       "    }\n",
       "</style>\n",
       "<table border=\"1\" class=\"dataframe\">\n",
       "  <thead>\n",
       "    <tr style=\"text-align: right;\">\n",
       "      <th></th>\n",
       "      <th>index</th>\n",
       "      <th>year_made</th>\n",
       "      <th>seats_x</th>\n",
       "      <th>mileage_x</th>\n",
       "      <th>ownership_x</th>\n",
       "      <th>fuel_economy_x</th>\n",
       "      <th>engine(cc)_x</th>\n",
       "      <th>horsepower_x</th>\n",
       "      <th>torque(Nm)_x</th>\n",
       "      <th>price_x</th>\n",
       "      <th>Make</th>\n",
       "      <th>Model</th>\n",
       "      <th>car_rating</th>\n",
       "      <th>mileage_per_year</th>\n",
       "      <th>car_age</th>\n",
       "    </tr>\n",
       "  </thead>\n",
       "  <tbody>\n",
       "    <tr>\n",
       "      <th>0</th>\n",
       "      <td>0</td>\n",
       "      <td>17</td>\n",
       "      <td>5</td>\n",
       "      <td>34796</td>\n",
       "      <td>1</td>\n",
       "      <td>7.81</td>\n",
       "      <td>2996.0</td>\n",
       "      <td>2996.0</td>\n",
       "      <td>333.0</td>\n",
       "      <td>86062.5</td>\n",
       "      <td>Mercedes-Benz</td>\n",
       "      <td>S-Class</td>\n",
       "      <td>23.380796</td>\n",
       "      <td>17.337319</td>\n",
       "      <td>2007</td>\n",
       "    </tr>\n",
       "    <tr>\n",
       "      <th>1</th>\n",
       "      <td>1</td>\n",
       "      <td>21</td>\n",
       "      <td>5</td>\n",
       "      <td>19023</td>\n",
       "      <td>1</td>\n",
       "      <td>17.40</td>\n",
       "      <td>999.0</td>\n",
       "      <td>999.0</td>\n",
       "      <td>9863.0</td>\n",
       "      <td>12136.5</td>\n",
       "      <td>Nissan</td>\n",
       "      <td>Magnite</td>\n",
       "      <td>40.753425</td>\n",
       "      <td>9.497254</td>\n",
       "      <td>2003</td>\n",
       "    </tr>\n",
       "    <tr>\n",
       "      <th>2</th>\n",
       "      <td>2</td>\n",
       "      <td>18</td>\n",
       "      <td>5</td>\n",
       "      <td>14912</td>\n",
       "      <td>1</td>\n",
       "      <td>20.68</td>\n",
       "      <td>1995.0</td>\n",
       "      <td>1995.0</td>\n",
       "      <td>188.0</td>\n",
       "      <td>32062.5</td>\n",
       "      <td>BMW</td>\n",
       "      <td>X1</td>\n",
       "      <td>29.366446</td>\n",
       "      <td>7.433699</td>\n",
       "      <td>2006</td>\n",
       "    </tr>\n",
       "    <tr>\n",
       "      <th>3</th>\n",
       "      <td>3</td>\n",
       "      <td>19</td>\n",
       "      <td>5</td>\n",
       "      <td>11419</td>\n",
       "      <td>1</td>\n",
       "      <td>16.50</td>\n",
       "      <td>1353.0</td>\n",
       "      <td>1353.0</td>\n",
       "      <td>13808.0</td>\n",
       "      <td>18306.0</td>\n",
       "      <td>Kia</td>\n",
       "      <td>Seltos</td>\n",
       "      <td>33.962524</td>\n",
       "      <td>5.695262</td>\n",
       "      <td>2005</td>\n",
       "    </tr>\n",
       "    <tr>\n",
       "      <th>4</th>\n",
       "      <td>4</td>\n",
       "      <td>19</td>\n",
       "      <td>5</td>\n",
       "      <td>27899</td>\n",
       "      <td>1</td>\n",
       "      <td>14.67</td>\n",
       "      <td>1798.0</td>\n",
       "      <td>1798.0</td>\n",
       "      <td>17746.0</td>\n",
       "      <td>32400.0</td>\n",
       "      <td>Skoda</td>\n",
       "      <td>Superb</td>\n",
       "      <td>32.433830</td>\n",
       "      <td>13.914713</td>\n",
       "      <td>2005</td>\n",
       "    </tr>\n",
       "    <tr>\n",
       "      <th>...</th>\n",
       "      <td>...</td>\n",
       "      <td>...</td>\n",
       "      <td>...</td>\n",
       "      <td>...</td>\n",
       "      <td>...</td>\n",
       "      <td>...</td>\n",
       "      <td>...</td>\n",
       "      <td>...</td>\n",
       "      <td>...</td>\n",
       "      <td>...</td>\n",
       "      <td>...</td>\n",
       "      <td>...</td>\n",
       "      <td>...</td>\n",
       "      <td>...</td>\n",
       "      <td>...</td>\n",
       "    </tr>\n",
       "    <tr>\n",
       "      <th>1532</th>\n",
       "      <td>1536</td>\n",
       "      <td>20</td>\n",
       "      <td>5</td>\n",
       "      <td>21747</td>\n",
       "      <td>1</td>\n",
       "      <td>1493.00</td>\n",
       "      <td>11345.0</td>\n",
       "      <td>11345.0</td>\n",
       "      <td>250.0</td>\n",
       "      <td>23503.5</td>\n",
       "      <td>Hyundai</td>\n",
       "      <td>Creta</td>\n",
       "      <td>54.749749</td>\n",
       "      <td>10.851796</td>\n",
       "      <td>2004</td>\n",
       "    </tr>\n",
       "    <tr>\n",
       "      <th>1533</th>\n",
       "      <td>1537</td>\n",
       "      <td>20</td>\n",
       "      <td>5</td>\n",
       "      <td>6213</td>\n",
       "      <td>1</td>\n",
       "      <td>999.00</td>\n",
       "      <td>6706.0</td>\n",
       "      <td>6706.0</td>\n",
       "      <td>91.0</td>\n",
       "      <td>5373.0</td>\n",
       "      <td>Renault</td>\n",
       "      <td>KWID</td>\n",
       "      <td>50.122245</td>\n",
       "      <td>3.100299</td>\n",
       "      <td>2004</td>\n",
       "    </tr>\n",
       "    <tr>\n",
       "      <th>1534</th>\n",
       "      <td>1538</td>\n",
       "      <td>17</td>\n",
       "      <td>5</td>\n",
       "      <td>30447</td>\n",
       "      <td>1</td>\n",
       "      <td>17.50</td>\n",
       "      <td>1199.0</td>\n",
       "      <td>1199.0</td>\n",
       "      <td>887.0</td>\n",
       "      <td>7897.5</td>\n",
       "      <td>Honda</td>\n",
       "      <td>WR-V</td>\n",
       "      <td>23.992638</td>\n",
       "      <td>15.170404</td>\n",
       "      <td>2007</td>\n",
       "    </tr>\n",
       "    <tr>\n",
       "      <th>1535</th>\n",
       "      <td>1539</td>\n",
       "      <td>18</td>\n",
       "      <td>5</td>\n",
       "      <td>24854</td>\n",
       "      <td>2</td>\n",
       "      <td>18.78</td>\n",
       "      <td>999.0</td>\n",
       "      <td>999.0</td>\n",
       "      <td>75.0</td>\n",
       "      <td>6412.5</td>\n",
       "      <td>Volkswagen</td>\n",
       "      <td>Polo</td>\n",
       "      <td>3.460494</td>\n",
       "      <td>12.389831</td>\n",
       "      <td>2006</td>\n",
       "    </tr>\n",
       "    <tr>\n",
       "      <th>1536</th>\n",
       "      <td>1540</td>\n",
       "      <td>18</td>\n",
       "      <td>5</td>\n",
       "      <td>21596</td>\n",
       "      <td>1</td>\n",
       "      <td>20.85</td>\n",
       "      <td>1197.0</td>\n",
       "      <td>1197.0</td>\n",
       "      <td>8314.0</td>\n",
       "      <td>8235.0</td>\n",
       "      <td>Maruti</td>\n",
       "      <td>Swift</td>\n",
       "      <td>28.995434</td>\n",
       "      <td>10.765703</td>\n",
       "      <td>2006</td>\n",
       "    </tr>\n",
       "  </tbody>\n",
       "</table>\n",
       "<p>1537 rows × 15 columns</p>\n",
       "</div>"
      ],
      "text/plain": [
       "      index  year_made  seats_x  mileage_x  ownership_x  fuel_economy_x  \\\n",
       "0         0         17        5      34796            1            7.81   \n",
       "1         1         21        5      19023            1           17.40   \n",
       "2         2         18        5      14912            1           20.68   \n",
       "3         3         19        5      11419            1           16.50   \n",
       "4         4         19        5      27899            1           14.67   \n",
       "...     ...        ...      ...        ...          ...             ...   \n",
       "1532   1536         20        5      21747            1         1493.00   \n",
       "1533   1537         20        5       6213            1          999.00   \n",
       "1534   1538         17        5      30447            1           17.50   \n",
       "1535   1539         18        5      24854            2           18.78   \n",
       "1536   1540         18        5      21596            1           20.85   \n",
       "\n",
       "      engine(cc)_x  horsepower_x  torque(Nm)_x  price_x           Make  \\\n",
       "0           2996.0        2996.0         333.0  86062.5  Mercedes-Benz   \n",
       "1            999.0         999.0        9863.0  12136.5         Nissan   \n",
       "2           1995.0        1995.0         188.0  32062.5            BMW   \n",
       "3           1353.0        1353.0       13808.0  18306.0            Kia   \n",
       "4           1798.0        1798.0       17746.0  32400.0          Skoda   \n",
       "...            ...           ...           ...      ...            ...   \n",
       "1532       11345.0       11345.0         250.0  23503.5        Hyundai   \n",
       "1533        6706.0        6706.0          91.0   5373.0        Renault   \n",
       "1534        1199.0        1199.0         887.0   7897.5          Honda   \n",
       "1535         999.0         999.0          75.0   6412.5     Volkswagen   \n",
       "1536        1197.0        1197.0        8314.0   8235.0         Maruti   \n",
       "\n",
       "        Model  car_rating  mileage_per_year  car_age  \n",
       "0     S-Class   23.380796         17.337319     2007  \n",
       "1     Magnite   40.753425          9.497254     2003  \n",
       "2          X1   29.366446          7.433699     2006  \n",
       "3      Seltos   33.962524          5.695262     2005  \n",
       "4      Superb   32.433830         13.914713     2005  \n",
       "...       ...         ...               ...      ...  \n",
       "1532    Creta   54.749749         10.851796     2004  \n",
       "1533     KWID   50.122245          3.100299     2004  \n",
       "1534     WR-V   23.992638         15.170404     2007  \n",
       "1535     Polo    3.460494         12.389831     2006  \n",
       "1536    Swift   28.995434         10.765703     2006  \n",
       "\n",
       "[1537 rows x 15 columns]"
      ]
     },
     "execution_count": 23,
     "metadata": {},
     "output_type": "execute_result"
    }
   ],
   "source": [
    "merged_df"
   ]
  },
  {
   "cell_type": "code",
   "execution_count": null,
   "id": "7fea1ae6-d817-47d5-a4a7-f09a47331ee0",
   "metadata": {},
   "outputs": [],
   "source": [
    "# iterate thorugh the rows and five years down the road predict price of makes and models based on engine(cc)_x,horsepower_x, car_rating"
   ]
  },
  {
   "cell_type": "code",
   "execution_count": 24,
   "id": "7d2dc971-e147-42af-9d75-bcd426ce8b84",
   "metadata": {},
   "outputs": [
    {
     "data": {
      "text/html": [
       "<style>#sk-container-id-1 {color: black;background-color: white;}#sk-container-id-1 pre{padding: 0;}#sk-container-id-1 div.sk-toggleable {background-color: white;}#sk-container-id-1 label.sk-toggleable__label {cursor: pointer;display: block;width: 100%;margin-bottom: 0;padding: 0.3em;box-sizing: border-box;text-align: center;}#sk-container-id-1 label.sk-toggleable__label-arrow:before {content: \"▸\";float: left;margin-right: 0.25em;color: #696969;}#sk-container-id-1 label.sk-toggleable__label-arrow:hover:before {color: black;}#sk-container-id-1 div.sk-estimator:hover label.sk-toggleable__label-arrow:before {color: black;}#sk-container-id-1 div.sk-toggleable__content {max-height: 0;max-width: 0;overflow: hidden;text-align: left;background-color: #f0f8ff;}#sk-container-id-1 div.sk-toggleable__content pre {margin: 0.2em;color: black;border-radius: 0.25em;background-color: #f0f8ff;}#sk-container-id-1 input.sk-toggleable__control:checked~div.sk-toggleable__content {max-height: 200px;max-width: 100%;overflow: auto;}#sk-container-id-1 input.sk-toggleable__control:checked~label.sk-toggleable__label-arrow:before {content: \"▾\";}#sk-container-id-1 div.sk-estimator input.sk-toggleable__control:checked~label.sk-toggleable__label {background-color: #d4ebff;}#sk-container-id-1 div.sk-label input.sk-toggleable__control:checked~label.sk-toggleable__label {background-color: #d4ebff;}#sk-container-id-1 input.sk-hidden--visually {border: 0;clip: rect(1px 1px 1px 1px);clip: rect(1px, 1px, 1px, 1px);height: 1px;margin: -1px;overflow: hidden;padding: 0;position: absolute;width: 1px;}#sk-container-id-1 div.sk-estimator {font-family: monospace;background-color: #f0f8ff;border: 1px dotted black;border-radius: 0.25em;box-sizing: border-box;margin-bottom: 0.5em;}#sk-container-id-1 div.sk-estimator:hover {background-color: #d4ebff;}#sk-container-id-1 div.sk-parallel-item::after {content: \"\";width: 100%;border-bottom: 1px solid gray;flex-grow: 1;}#sk-container-id-1 div.sk-label:hover label.sk-toggleable__label {background-color: #d4ebff;}#sk-container-id-1 div.sk-serial::before {content: \"\";position: absolute;border-left: 1px solid gray;box-sizing: border-box;top: 0;bottom: 0;left: 50%;z-index: 0;}#sk-container-id-1 div.sk-serial {display: flex;flex-direction: column;align-items: center;background-color: white;padding-right: 0.2em;padding-left: 0.2em;position: relative;}#sk-container-id-1 div.sk-item {position: relative;z-index: 1;}#sk-container-id-1 div.sk-parallel {display: flex;align-items: stretch;justify-content: center;background-color: white;position: relative;}#sk-container-id-1 div.sk-item::before, #sk-container-id-1 div.sk-parallel-item::before {content: \"\";position: absolute;border-left: 1px solid gray;box-sizing: border-box;top: 0;bottom: 0;left: 50%;z-index: -1;}#sk-container-id-1 div.sk-parallel-item {display: flex;flex-direction: column;z-index: 1;position: relative;background-color: white;}#sk-container-id-1 div.sk-parallel-item:first-child::after {align-self: flex-end;width: 50%;}#sk-container-id-1 div.sk-parallel-item:last-child::after {align-self: flex-start;width: 50%;}#sk-container-id-1 div.sk-parallel-item:only-child::after {width: 0;}#sk-container-id-1 div.sk-dashed-wrapped {border: 1px dashed gray;margin: 0 0.4em 0.5em 0.4em;box-sizing: border-box;padding-bottom: 0.4em;background-color: white;}#sk-container-id-1 div.sk-label label {font-family: monospace;font-weight: bold;display: inline-block;line-height: 1.2em;}#sk-container-id-1 div.sk-label-container {text-align: center;}#sk-container-id-1 div.sk-container {/* jupyter's `normalize.less` sets `[hidden] { display: none; }` but bootstrap.min.css set `[hidden] { display: none !important; }` so we also need the `!important` here to be able to override the default hidden behavior on the sphinx rendered scikit-learn.org. See: https://github.com/scikit-learn/scikit-learn/issues/21755 */display: inline-block !important;position: relative;}#sk-container-id-1 div.sk-text-repr-fallback {display: none;}</style><div id=\"sk-container-id-1\" class=\"sk-top-container\"><div class=\"sk-text-repr-fallback\"><pre>RandomForestRegressor(max_depth=20, n_estimators=300, random_state=42)</pre><b>In a Jupyter environment, please rerun this cell to show the HTML representation or trust the notebook. <br />On GitHub, the HTML representation is unable to render, please try loading this page with nbviewer.org.</b></div><div class=\"sk-container\" hidden><div class=\"sk-item\"><div class=\"sk-estimator sk-toggleable\"><input class=\"sk-toggleable__control sk-hidden--visually\" id=\"sk-estimator-id-1\" type=\"checkbox\" checked><label for=\"sk-estimator-id-1\" class=\"sk-toggleable__label sk-toggleable__label-arrow\">RandomForestRegressor</label><div class=\"sk-toggleable__content\"><pre>RandomForestRegressor(max_depth=20, n_estimators=300, random_state=42)</pre></div></div></div></div></div>"
      ],
      "text/plain": [
       "RandomForestRegressor(max_depth=20, n_estimators=300, random_state=42)"
      ]
     },
     "execution_count": 24,
     "metadata": {},
     "output_type": "execute_result"
    }
   ],
   "source": [
    "# drop rows with missing values in X\n",
    "X = X.dropna()\n",
    "\n",
    "# drop rows with missing values in y\n",
    "y = y[X.index]\n",
    "\n",
    "# splitting and training\n",
    "X_train, X_test, y_train, y_test = train_test_split(X, y, test_size=0.2, random_state=42)\n",
    "model.fit(X_train, y_train)"
   ]
  },
  {
   "cell_type": "code",
   "execution_count": 27,
   "id": "e598d0b1-5c52-408f-901c-fe2dc861cbd3",
   "metadata": {},
   "outputs": [
    {
     "name": "stdout",
     "output_type": "stream",
     "text": [
      "            Make    Model  predicted_price_in_5_years\n",
      "0  Mercedes-Benz  S-Class                   10011.375\n",
      "1         Nissan  Magnite                   60567.210\n",
      "2            BMW       X1                   11712.780\n",
      "3            Kia   Seltos                   57260.250\n",
      "4          Skoda   Superb                   50209.830\n"
     ]
    }
   ],
   "source": [
    "import pandas as pd\n",
    "\n",
    "model_to_use = best_model  \n",
    "\n",
    "# prepare an empty list to store future predictions\n",
    "future_predictions = []\n",
    "\n",
    "# iterate through each row \n",
    "for _, row in merged_df.iterrows():\n",
    "    # Prepare the feature data for the current row\n",
    "    feature_data = pd.DataFrame([{\n",
    "        'engine(cc)_x': row.get('engine(cc)_x', 0),\n",
    "        'horsepower_x': row.get('horsepower_x', 0),\n",
    "        'car_rating': row.get('car_rating', 0)\n",
    "    }])\n",
    "    \n",
    "    # feature_data has the same columns as X_train\n",
    "    feature_data = feature_data.reindex(columns=X_train.columns, fill_value=0)\n",
    "    \n",
    "    # predict the price for 5 years \n",
    "    future_price = model_to_use.predict(feature_data)[0]\n",
    "    \n",
    "    # store prediction\n",
    "    future_predictions.append({\n",
    "        'Make': row['Make'],\n",
    "        'Model': row['Model'],\n",
    "        'predicted_price_in_5_years': future_price\n",
    "    })\n",
    "\n",
    "future_predictions_df = pd.DataFrame(future_predictions)\n",
    "\n",
    "print(future_predictions_df.head())\n",
    "\n"
   ]
  },
  {
   "cell_type": "code",
   "execution_count": 28,
   "id": "eeb82217-44fc-4d65-9d9d-d55f30bf725b",
   "metadata": {},
   "outputs": [
    {
     "data": {
      "text/html": [
       "<div>\n",
       "<style scoped>\n",
       "    .dataframe tbody tr th:only-of-type {\n",
       "        vertical-align: middle;\n",
       "    }\n",
       "\n",
       "    .dataframe tbody tr th {\n",
       "        vertical-align: top;\n",
       "    }\n",
       "\n",
       "    .dataframe thead th {\n",
       "        text-align: right;\n",
       "    }\n",
       "</style>\n",
       "<table border=\"1\" class=\"dataframe\">\n",
       "  <thead>\n",
       "    <tr style=\"text-align: right;\">\n",
       "      <th></th>\n",
       "      <th>Make</th>\n",
       "      <th>Model</th>\n",
       "      <th>predicted_price_in_5_years</th>\n",
       "    </tr>\n",
       "  </thead>\n",
       "  <tbody>\n",
       "    <tr>\n",
       "      <th>0</th>\n",
       "      <td>Mercedes-Benz</td>\n",
       "      <td>S-Class</td>\n",
       "      <td>10011.375</td>\n",
       "    </tr>\n",
       "    <tr>\n",
       "      <th>1</th>\n",
       "      <td>Nissan</td>\n",
       "      <td>Magnite</td>\n",
       "      <td>60567.210</td>\n",
       "    </tr>\n",
       "    <tr>\n",
       "      <th>2</th>\n",
       "      <td>BMW</td>\n",
       "      <td>X1</td>\n",
       "      <td>11712.780</td>\n",
       "    </tr>\n",
       "    <tr>\n",
       "      <th>3</th>\n",
       "      <td>Kia</td>\n",
       "      <td>Seltos</td>\n",
       "      <td>57260.250</td>\n",
       "    </tr>\n",
       "    <tr>\n",
       "      <th>4</th>\n",
       "      <td>Skoda</td>\n",
       "      <td>Superb</td>\n",
       "      <td>50209.830</td>\n",
       "    </tr>\n",
       "    <tr>\n",
       "      <th>...</th>\n",
       "      <td>...</td>\n",
       "      <td>...</td>\n",
       "      <td>...</td>\n",
       "    </tr>\n",
       "    <tr>\n",
       "      <th>1532</th>\n",
       "      <td>Hyundai</td>\n",
       "      <td>Creta</td>\n",
       "      <td>9039.150</td>\n",
       "    </tr>\n",
       "    <tr>\n",
       "      <th>1533</th>\n",
       "      <td>Renault</td>\n",
       "      <td>KWID</td>\n",
       "      <td>7738.560</td>\n",
       "    </tr>\n",
       "    <tr>\n",
       "      <th>1534</th>\n",
       "      <td>Honda</td>\n",
       "      <td>WR-V</td>\n",
       "      <td>53162.865</td>\n",
       "    </tr>\n",
       "    <tr>\n",
       "      <th>1535</th>\n",
       "      <td>Volkswagen</td>\n",
       "      <td>Polo</td>\n",
       "      <td>51709.005</td>\n",
       "    </tr>\n",
       "    <tr>\n",
       "      <th>1536</th>\n",
       "      <td>Maruti</td>\n",
       "      <td>Swift</td>\n",
       "      <td>52669.980</td>\n",
       "    </tr>\n",
       "  </tbody>\n",
       "</table>\n",
       "<p>1537 rows × 3 columns</p>\n",
       "</div>"
      ],
      "text/plain": [
       "               Make    Model  predicted_price_in_5_years\n",
       "0     Mercedes-Benz  S-Class                   10011.375\n",
       "1            Nissan  Magnite                   60567.210\n",
       "2               BMW       X1                   11712.780\n",
       "3               Kia   Seltos                   57260.250\n",
       "4             Skoda   Superb                   50209.830\n",
       "...             ...      ...                         ...\n",
       "1532        Hyundai    Creta                    9039.150\n",
       "1533        Renault     KWID                    7738.560\n",
       "1534          Honda     WR-V                   53162.865\n",
       "1535     Volkswagen     Polo                   51709.005\n",
       "1536         Maruti    Swift                   52669.980\n",
       "\n",
       "[1537 rows x 3 columns]"
      ]
     },
     "execution_count": 28,
     "metadata": {},
     "output_type": "execute_result"
    }
   ],
   "source": [
    "future_predictions_df"
   ]
  },
  {
   "cell_type": "code",
   "execution_count": 30,
   "id": "1e28faa4-f4db-4fd0-8caa-60a4b3b47bd5",
   "metadata": {},
   "outputs": [
    {
     "name": "stdout",
     "output_type": "stream",
     "text": [
      "Future predictions saved to 'future_predictions.csv'\n"
     ]
    }
   ],
   "source": [
    "future_predictions_df.to_csv('future_predictions.csv', index=False)\n",
    "print(\"Future predictions saved to 'future_predictions.csv'\")"
   ]
  },
  {
   "cell_type": "code",
   "execution_count": null,
   "id": "590e124e-079f-4a85-8b24-87e454db56f5",
   "metadata": {},
   "outputs": [],
   "source": []
  }
 ],
 "metadata": {
  "kernelspec": {
   "display_name": "Python 3 (ipykernel)",
   "language": "python",
   "name": "python3"
  },
  "language_info": {
   "codemirror_mode": {
    "name": "ipython",
    "version": 3
   },
   "file_extension": ".py",
   "mimetype": "text/x-python",
   "name": "python",
   "nbconvert_exporter": "python",
   "pygments_lexer": "ipython3",
   "version": "3.11.7"
  }
 },
 "nbformat": 4,
 "nbformat_minor": 5
}
